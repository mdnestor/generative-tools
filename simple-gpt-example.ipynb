{
  "nbformat": 4,
  "nbformat_minor": 0,
  "metadata": {
    "colab": {
      "name": "simple-gpt-example.ipynb",
      "provenance": []
    },
    "kernelspec": {
      "name": "python3",
      "display_name": "Python 3"
    },
    "language_info": {
      "name": "python"
    }
  },
  "cells": [
    {
      "cell_type": "code",
      "execution_count": null,
      "metadata": {
        "id": "M4vBEHoo2-Gt"
      },
      "outputs": [],
      "source": [
        "!pip install git+https://github.com/huggingface/hfapi/"
      ]
    },
    {
      "cell_type": "code",
      "source": [
        "import hfapi\n",
        "api_token = input('Enter Hugging Face access token (https://hf.co/settings/tokens): ')\n",
        "client = hfapi.Client(api_token)"
      ],
      "metadata": {
        "id": "Fhbj96Ic3dnU"
      },
      "execution_count": null,
      "outputs": []
    },
    {
      "cell_type": "code",
      "source": [
        "# https://hf.co/docs/api-inference/detailed_parameters#text-generation-task\n",
        "def generate(prompt = '', model = 'EleutherAI/gpt-j-6B', use_cache = False, **kwargs):\n",
        "  json = {'inputs': prompt, 'parameters': kwargs, 'options': {'use_cache': use_cache}}\n",
        "  client_out = client.text_generation(json, model)\n",
        "  try:\n",
        "    return [x['generated_text'] for x in client_out]\n",
        "  except:\n",
        "    print(client_out)"
      ],
      "metadata": {
        "id": "qcLEpWz03Ja6"
      },
      "execution_count": null,
      "outputs": []
    },
    {
      "cell_type": "code",
      "source": [
        "prompt = 'The true purpose of life is'\n",
        "out = generate(prompt)\n",
        "print(out[0])"
      ],
      "metadata": {
        "id": "462JTHj-3OkH"
      },
      "execution_count": null,
      "outputs": []
    }
  ]
}