{
  "nbformat": 4,
  "nbformat_minor": 0,
  "metadata": {
    "colab": {
      "name": "simple-gpt-adventure.ipynb",
      "provenance": [],
      "collapsed_sections": []
    },
    "kernelspec": {
      "name": "python3",
      "display_name": "Python 3"
    },
    "language_info": {
      "name": "python"
    }
  },
  "cells": [
    {
      "cell_type": "code",
      "source": [
        "#@title Setup\n",
        "!pip install git+https://github.com/huggingface/hfapi/\n",
        "\n",
        "import hfapi\n",
        "import nltk\n",
        "from nltk.tokenize import sent_tokenize\n",
        "from IPython.display import clear_output\n",
        "\n",
        "api_token = input('Enter Hugging Face access token (https://hf.co/settings/tokens): ')\n",
        "client = hfapi.Client(api_token)\n",
        "nltk.download('punkt')\n",
        "\n",
        "def generate(prompt = '', model = 'EleutherAI/gpt-j-6B', use_cache = False, **kwargs):\n",
        "  json = {'inputs': prompt, 'parameters': kwargs, 'options': {'use_cache': use_cache}}\n",
        "  client_out = client.text_generation(json, model)\n",
        "  try:\n",
        "    return [x['generated_text'] for x in client_out]\n",
        "  except:\n",
        "    print(client_out)"
      ],
      "metadata": {
        "id": "VI05f-hMsvXP",
        "cellView": "form"
      },
      "execution_count": null,
      "outputs": []
    },
    {
      "cell_type": "code",
      "source": [
        "prompt = '''\n",
        "As you awake one morning from uneasy dreams, you find yourself transformed in your bed into a gigantic insect.\n",
        "You are lying on your hard, armor-plated back and when you lift your head a little, you can see your domelike brown belly divided into stiff arched segments on top of which the bed quilt can hardly keep in position and is about to slide off completely.\n",
        "Your numerous legs, which are pitifully thin compared to the rest of your bulk, wave helplessly before your eyes.\n",
        "'''"
      ],
      "metadata": {
        "id": "jGo1NPYIFxm1"
      },
      "execution_count": null,
      "outputs": []
    },
    {
      "cell_type": "code",
      "source": [
        "#@title Main loop\n",
        "print(prompt)\n",
        "story = prompt.strip()\n",
        "story += '\\n'\n",
        "done = False\n",
        "out = ''\n",
        "while not done:\n",
        "  clear_output()\n",
        "  print(story)\n",
        "\n",
        "  if not done:\n",
        "    try:\n",
        "      x = input()\n",
        "    except:\n",
        "      done = True\n",
        "    if x == '':\n",
        "      out = generate(story, temperature=0.4, repetition_penalty=1.2,\n",
        "                    return_full_text=False, max_new_tokens=32)\n",
        "      out = out[0]\n",
        "      sents = sent_tokenize(out)\n",
        "      sent = sents[0]\n",
        "      story += sent + '\\n'\n",
        "    else:\n",
        "      story += x + '\\n'"
      ],
      "metadata": {
        "cellView": "form",
        "id": "U7ppyW8a_o7A"
      },
      "execution_count": null,
      "outputs": []
    }
  ]
}