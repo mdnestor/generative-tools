{
  "nbformat": 4,
  "nbformat_minor": 0,
  "metadata": {
    "colab": {
      "name": "15ai-text-to-speech.ipynb",
      "provenance": []
    },
    "kernelspec": {
      "name": "python3",
      "display_name": "Python 3"
    },
    "language_info": {
      "name": "python"
    }
  },
  "cells": [
    {
      "cell_type": "code",
      "execution_count": null,
      "metadata": {
        "cellView": "form",
        "id": "Hk29ayqLNoGU"
      },
      "outputs": [],
      "source": [
        "#@markdown # Step 1. Setup\n",
        "!git clone https://github.com/wafflecomposite/15.ai-Python-API.git\n",
        "%cd 15.ai-Python-API\n",
        "from fifteen_api import FifteenAPI\n",
        "from IPython.display import Audio\n",
        "tts_api = FifteenAPI()"
      ]
    },
    {
      "cell_type": "code",
      "source": [
        "#@markdown # Step 2. Generate audio\n",
        "character = \"GLaDOS\" #@param [\"GLaDOS\", \"Wheatley\", \"Sentry Turret\", \"Chell\", \"SpongeBob Squarepants\", \"Kyu Sugardust\", \"Daria Morgendorffer\", \"Jane Lane\", \"Carl Brutananadilewski\", \"Miss Pauling\", \"Scout\", \"Soldier\", \"Demoman\", \"Heavy\", \"Engineer\", \"Medic\", \"Sniper\", \"Spy\", \"Rise Kujikawa\", \"Steven Universe\", \"Dan\", \"The Narrator\", \"Stanley\", \"HAL 9000\", \"Tenth Doctor\"]\n",
        "text = \"Hello and, again, welcome to the Aperture Science computer-aided enrichment center. We hope your brief detention in the relaxation vault has been a pleasant one.\" #@param {type:\"string\"}\n",
        "text = text.strip()\n",
        "out_file = 'out.wav'\n",
        "tts_api.save_to_file(character, text, out_file)\n",
        "Audio(out_file, autoplay = True)"
      ],
      "metadata": {
        "cellView": "form",
        "id": "dmf1Xt05N_Sh"
      },
      "execution_count": null,
      "outputs": []
    }
  ]
}