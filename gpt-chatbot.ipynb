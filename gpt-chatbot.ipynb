{
  "nbformat": 4,
  "nbformat_minor": 0,
  "metadata": {
    "colab": {
      "name": "simple-gpt-chatbot.ipynb",
      "provenance": []
    },
    "kernelspec": {
      "name": "python3",
      "display_name": "Python 3"
    },
    "language_info": {
      "name": "python"
    }
  },
  "cells": [
    {
      "cell_type": "code",
      "source": [
        "#@title Setup\n",
        "!pip install git+https://github.com/huggingface/hfapi/\n",
        "\n",
        "import hfapi\n",
        "api_token = input('Enter Hugging Face access token (https://hf.co/settings/tokens): ')\n",
        "client = hfapi.Client(api_token)\n",
        "\n",
        "def generate(prompt = '', model = 'EleutherAI/gpt-j-6B', use_cache = False, **kwargs):\n",
        "  json = {'inputs': prompt, 'parameters': kwargs, 'options': {'use_cache': use_cache}}\n",
        "  client_out = client.text_generation(json, model)\n",
        "  try:\n",
        "    return [x['generated_text'] for x in client_out]\n",
        "  except:\n",
        "    print(client_out)"
      ],
      "metadata": {
        "id": "VI05f-hMsvXP",
        "cellView": "form"
      },
      "execution_count": null,
      "outputs": []
    },
    {
      "cell_type": "code",
      "source": [
        "#@title Main\n",
        "prompt = 'You are now chatting with a random stranger.'\n",
        "user_name = 'You'\n",
        "gpt_name = 'Stranger'\n",
        "\n",
        "print(prompt)\n",
        "while True:\n",
        "  try:\n",
        "    message = input(f'{user_name}: ')\n",
        "  except KeyboardInterrupt:\n",
        "    break\n",
        "  prompt += f'\\n{user_name}: {message}\\n{gpt_name}:'\n",
        "  out = generate(prompt, temperature=0.4, repetition_penalty=1.2,\n",
        "                 return_full_text=False, max_new_tokens=40)\n",
        "  gen_text = out[0]\n",
        "  i = gen_text.find('\\n')\n",
        "  response = gen_text[:i] if i >= 0 else gen_text\n",
        "  print(f'{gpt_name}:{response}')\n",
        "  prompt += response"
      ],
      "metadata": {
        "id": "53sP__VRq8BO",
        "cellView": "form"
      },
      "execution_count": null,
      "outputs": []
    }
  ]
}